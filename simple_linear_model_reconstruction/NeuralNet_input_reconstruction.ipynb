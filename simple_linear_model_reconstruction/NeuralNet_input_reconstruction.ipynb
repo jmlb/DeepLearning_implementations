{
 "cells": [
  {
   "cell_type": "markdown",
   "metadata": {},
   "source": [
    "# Reconstruction of the input with Gradient Descent\n",
    "\n",
    "\n",
    "### Introduction\n",
    "\n",
    "An artificial Neural Network is an interconnected group of nodes, where the connection has weight $W$\n",
    "\n",
    "<img src=\"neuralnetwork.jpg\" width=\"450px\">\n",
    "\n",
    "The pre-activation $z$ of a hidden node is given by the weighted sum of the input nodes:\n",
    "\n",
    "$$\n",
    "z = \\sum_k x_k W_k \n",
    "$$\n",
    "\n",
    "The activation is then given by applying a non-linear function:\n",
    "\n",
    "$$\n",
    "a = \\sigma(z)\n",
    "$$\n",
    "\n",
    "For a Neural Network model, the output is calculated thru forward pass. The weights are determined by using Gadient descent. \n",
    "\n",
    "**Typically $x$ is known, $W$ is known and we use the forward pass to infer the output.**\n",
    "\n",
    "But can we go backward: assume an output $y$ and determine what input value $x$ would generate that output $y$. The goal is to get an insight on the inner working of the Neural Network. \n",
    "\n",
    "\n",
    "### Toy example\n",
    "\n",
    "Let's consider a toy example - a linear regression:\n",
    "\n",
    "$$\n",
    "z = Wx + b\n",
    "$$\n",
    "\n",
    "with a bias `b`, weight `W`, an input `x`.\n",
    "\n",
    "**Assuming a output `z`, can we reconstruct the input `x`?**\n",
    "\n",
    "The methodology can be expanded to more complex problem where `x` is muli-variate, i.e a vector input."
   ]
  },
  {
   "cell_type": "markdown",
   "metadata": {},
   "source": [
    "### The algorithm\n",
    "\n",
    "The algorithm assumes that the parameters `W` and `b` are known, determined by Gradient Descent and backpropagation.\n",
    "\n",
    "Now, let's assume that we have an observation `z0`, can we determine the input `x0` that results in that observation? \n",
    "\n",
    "`z0 = W x0 + b`\n",
    "\n",
    "\n",
    "Here is the pseudo code:\n",
    "\n",
    "```\n",
    "    1) randomly set x\n",
    "    ------\n",
    "    2) compute z = Wx + b\n",
    "    ------\n",
    "    3) compare computed z with z0 using a cost function (rmse):\n",
    "        cost = 0.5 * ( z0 - z)**2 `\n",
    "    where `z0` is the true output.\n",
    "    ------\n",
    "    4) Compute the gradient:\n",
    "        grad_x = d cost/ dx\n",
    "    ------\n",
    "    5) Update the value of x: \n",
    "        x -= lr * grad_x\n",
    "    (lr = learning rate)\n",
    "```"
   ]
  },
  {
   "cell_type": "code",
   "execution_count": 1,
   "metadata": {
    "collapsed": false
   },
   "outputs": [
    {
     "name": "stderr",
     "output_type": "stream",
     "text": [
      "Using TensorFlow backend.\n"
     ]
    }
   ],
   "source": [
    "#import required library\n",
    "import numpy as np\n",
    "from keras.models import Sequential\n",
    "from keras.layers import Dense\n",
    "import keras.backend as K\n",
    "import tensorflow as tf\n",
    "K.clear_session()\n",
    "from matplotlib import pyplot as plt"
   ]
  },
  {
   "cell_type": "code",
   "execution_count": 2,
   "metadata": {
    "collapsed": false
   },
   "outputs": [
    {
     "data": {
      "image/png": "[encoded data removed]",
      "text/plain": [
       "<matplotlib.figure.Figure at 0x7fe1c2149390>"
      ]
     },
     "metadata": {},
     "output_type": "display_data"
    }
   ],
   "source": [
    "#Build dataset\n",
    "x_train = np.random.uniform(low=0, high=1000, size=(100, 1))\n",
    "z_train = np.array([0.4 * i -50 * np.random.random() for i in x_train])\n",
    "\n",
    "#Visualize data\n",
    "plt.scatter(x_train, z_train)\n",
    "plt.title(\"Training dataset - Linear\")\n",
    "plt.xlabel(\"x_train\")\n",
    "plt.ylabel(\"z_train\")\n",
    "plt.show()"
   ]
  },
  {
   "cell_type": "code",
   "execution_count": 3,
   "metadata": {
    "collapsed": false
   },
   "outputs": [
    {
     "name": "stdout",
     "output_type": "stream",
     "text": [
      "_________________________________________________________________\n",
      "Layer (type)                 Output Shape              Param #   \n",
      "=================================================================\n",
      "dense_1 (Dense)              (None, 1)                 2         \n",
      "=================================================================\n",
      "Total params: 2\n",
      "Trainable params: 2\n",
      "Non-trainable params: 0\n",
      "_________________________________________________________________\n"
     ]
    }
   ],
   "source": [
    "#Train the simple model to fit the dataset and extract W and bias\n",
    "model = Sequential()\n",
    "model.add(Dense(units=1, input_shape=(1, )) )\n",
    "# now the model will take as input arrays of shape (*, 1)\n",
    "# and output arrays of shape (*, 1)\n",
    "model.compile(loss=\"mse\", optimizer=\"adam\")\n",
    "model.fit(x_train, z_train, epochs=100000, batch_size=100, verbose=0)\n",
    "model.summary()"
   ]
  },
  {
   "cell_type": "code",
   "execution_count": 8,
   "metadata": {
    "collapsed": false
   },
   "outputs": [
    {
     "name": "stdout",
     "output_type": "stream",
     "text": [
      "Weight 0.4011712670326233 | Bias: -26.020309448242188\n"
     ]
    },
    {
     "data": {
      "image/png": "[encoded data removed]",
      "text/plain": [
       "<matplotlib.figure.Figure at 0x7fe17c60aef0>"
      ]
     },
     "metadata": {},
     "output_type": "display_data"
    }
   ],
   "source": [
    "# Plot the data and the best fit \n",
    "\n",
    "for layer in model.layers:\n",
    "    weight = layer.get_weights()[0][0,0]\n",
    "    bias = K.get_value(layer.bias[0])\n",
    "    print(\"Weight {} | Bias: {}\".format(weight, bias) )\n",
    "\n",
    "x_test =  x_train  \n",
    "z_fit = model.predict(x_test)\n",
    "plt.scatter(x_train, z_train, c=\"blue\")\n",
    "plt.plot(x_test, z_fit, c=\"r\")\n",
    "plt.show()"
   ]
  },
  {
   "cell_type": "markdown",
   "metadata": {},
   "source": [
    "## Reconstruction of input `x0`\n",
    "\n",
    "Let's see what the input `x0` is when we fix the output `z0=100`.\n",
    "\n",
    "1) Initialize `x` to be 1\n",
    "\n",
    "2) Compute forward pass: `y = Wx + b`\n",
    "\n",
    "3) Calculate the gradient\n",
    "\n",
    "4) Update the value of `x = x - lr * grad_x`\n",
    "\n",
    "We iterate this update multiple times until convergence."
   ]
  },
  {
   "cell_type": "code",
   "execution_count": 11,
   "metadata": {
    "collapsed": false
   },
   "outputs": [
    {
     "name": "stdout",
     "output_type": "stream",
     "text": [
      "Iteration: 0 | x: [[ 21.15791702]]\n",
      "Iteration: 50 | x: [[ 303.61352539]]\n",
      "Iteration: 100 | x: [[ 313.75338745]]\n",
      "Iteration: 150 | x: [[ 314.11740112]]\n",
      "Iteration: 199 | x: [[ 314.13040161]]\n"
     ]
    }
   ],
   "source": [
    "def total_loss(y_mod, y_pred):\n",
    "    cost_ = 0.5 * K.square(y_mod - y_pred)\n",
    "    return cost_\n",
    "\n",
    "x = np.array([[1.]])\n",
    "w = weight.reshape((1, 1))\n",
    "bias = bias.reshape((1, 1))\n",
    "z0 = np.array([[100.]])\n",
    "x_tensor = tf.convert_to_tensor(x, np.float32)\n",
    "w_tensor = tf.convert_to_tensor(w, np.float32)\n",
    "b_tensor = tf.convert_to_tensor(bias, np.float32)\n",
    "\n",
    "z0_tensor = tf.convert_to_tensor(z0, np.float32 )\n",
    "x_summary = []\n",
    "n_iter = 200\n",
    "for iteration in range(n_iter):\n",
    "    z_ = K.dot(x_tensor, w_tensor) + b_tensor\n",
    "    cost = total_loss(z0_tensor, z_)\n",
    "    grads = K.gradients(cost, x_tensor)[0]\n",
    "    loss = K.mean(cost)\n",
    "    lr = K.variable(0.4)\n",
    "    x_tensor -= lr * grads\n",
    "    x_summary.append(K.get_value(x_tensor)[0,0])\n",
    "    if (iteration % 50 == 0) or (iteration==n_iter-1):\n",
    "        print(\"Iteration: {} | x: {}\".format(iteration, K.get_value(x_tensor)))\n",
    "\n",
    "    x0 =  K.get_value(x_tensor)[0, 0]\n"
   ]
  },
  {
   "cell_type": "code",
   "execution_count": 10,
   "metadata": {
    "collapsed": false
   },
   "outputs": [
    {
     "data": {
      "image/png": "[encoded data removed]",
      "text/plain": [
       "<matplotlib.figure.Figure at 0x7fe17c6ee4e0>"
      ]
     },
     "metadata": {},
     "output_type": "display_data"
    }
   ],
   "source": [
    "plt.scatter( np.arange(0, n_iter, 1 ), x_summary)\n",
    "plt.xlabel(\"iterations\")\n",
    "plt.ylabel(\"value of x0\")\n",
    "plt.show()"
   ]
  },
  {
   "cell_type": "code",
   "execution_count": 16,
   "metadata": {
    "collapsed": false
   },
   "outputs": [
    {
     "data": {
      "image/png": "[encoded data removed]",
      "text/plain": [
       "<matplotlib.figure.Figure at 0x7fe0c0a83ef0>"
      ]
     },
     "metadata": {},
     "output_type": "display_data"
    }
   ],
   "source": [
    "plt.scatter(x_train, z_train, c=\"blue\")\n",
    "plt.plot(x_test, z_fit, c=\"r\")\n",
    "plt.scatter([x0], [z0[0,0]], c='orange', s=200)\n",
    "plt.xlabel(\"x data\")\n",
    "plt.ylabel(\"z data\")\n",
    "plt.show()"
   ]
  },
  {
   "cell_type": "code",
   "execution_count": null,
   "metadata": {
    "collapsed": true
   },
   "outputs": [],
   "source": []
  }
 ],
 "metadata": {
  "kernelspec": {
   "display_name": "Python 3",
   "language": "python",
   "name": "python3"
  },
  "language_info": {
   "codemirror_mode": {
    "name": "ipython",
    "version": 3
   },
   "file_extension": ".py",
   "mimetype": "text/x-python",
   "name": "python",
   "nbconvert_exporter": "python",
   "pygments_lexer": "ipython3",
   "version": "3.5.2"
  }
 },
 "nbformat": 4,
 "nbformat_minor": 2
}
